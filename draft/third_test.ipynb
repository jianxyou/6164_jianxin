{
 "cells": [
  {
   "cell_type": "code",
   "execution_count": 1,
   "id": "645e0eaf",
   "metadata": {},
   "outputs": [],
   "source": [
    "from PEPit import PEP\n",
    "from PEPit.operators import MonotoneOperator\n",
    "from PEPit.primitive_steps import proximal_step\n",
    "import numpy as np\n",
    "from PEPit.function import Function\n",
    "import matplotlib.pyplot as plt\n",
    "import copy\n",
    "import math\n",
    "import time\n",
    "import scipy\n",
    "from pathlib import Path\n",
    "import scipy.io\n",
    "import seaborn as sns\n",
    "import cvxpy as cp\n",
    "\n",
    "# !pip install mosek\n",
    "\n",
    "import cvxopt\n",
    "\n",
    "%matplotlib inline"
   ]
  },
  {
   "cell_type": "code",
   "execution_count": 2,
   "id": "0fd4aaf4",
   "metadata": {},
   "outputs": [],
   "source": [
    "\n",
    "def GDA(mu,L,eta,verbose = 1, alt = True):\n",
    "    # notations\n",
    "    n_iter = 2\n",
    "    n_points = n_iter + 1 ## Correspond to 1 iteration with two iterates\n",
    "\n",
    "    dimG = 2*n_points **2\n",
    "    # nbPtsA = 2*n_iter + 1 # \n",
    "\n",
    "\n",
    "    xs  = np.zeros((2, 1, dimG)) # this is x_* and y_*\n",
    "    xk  = np.zeros((2, n_iter, dimG))\n",
    "    gxk = np.zeros((2, n_points, n_points, dimG))\n",
    "    Lk = np.zeros((2,n_points, n_points, n_points**2-1))\n",
    "\n",
    "    k=0\n",
    "    for p in range(2):\n",
    "        for i in range(n_points):\n",
    "            for j in range(n_points):\n",
    "                if i == j ==0:\n",
    "                    xk[p,i,k] = 1\n",
    "                elif p == 0:\n",
    "                    gxk[p,i,j,k] = 1\n",
    "                    Lk[p,i,j,k-1] = 1\n",
    "                    Lk[1-p,j,i,k-1] = -1\n",
    "                else:\n",
    "                    gxk[p,i,j,k] = -1\n",
    "                k += 1\n",
    "    assert(k==2*n_points**2)  \n",
    "\n",
    "\n",
    "    for i in range(n_iter-1):\n",
    "        if alt:\n",
    "#             xk[i+1,:] = xk[i,:] - eta * gxk[i+2,i+2,:]\n",
    "            xk[0,i+1,:] = xk[0,i,:] - eta * gxk[0,i+1,i+1,:]\n",
    "#             yk[i+1,:] = yk[i,:] + eta * gyk[i+2,i+2,:]\n",
    "            xk[1,i+1,:] = xk[1,i,:] - eta * gxk[1,i+1,i+2,:]\n",
    "        else:\n",
    "#             xk[i+1,:] = xk[i,:] - eta * gxk[i+1,i+1,:]\n",
    "            xk[0,i+1,:] = xk[0,i,:] - eta * gxk[0,i+2,i+2,:]\n",
    "#             yk[i+1,:] = yk[i,:] + eta * gyk[i+1,i+1,:]\n",
    "            xk[1,i+1,:] = xk[1,i,:] - eta * gxk[1,i+2,i+2,:]\n",
    "#     print(xk[1,:])\n",
    "\n",
    "\n",
    "    # regroup all points to be interpolated in larger matrices\n",
    "    XX_A = np.concatenate((xs,xk), axis=1)\n",
    "    GX_A = gxk\n",
    "    LL_A = Lk\n",
    "    \n",
    "    ## SDP part\n",
    "    nbPtsA = n_points**2\n",
    "    lambda_conv = {}\n",
    "    lambda_smooth = {}\n",
    "    lambda_lip_xy = {}\n",
    "    for p in range(2):\n",
    "        for j in range(n_points):\n",
    "            lambda_conv[p,j] = cp.Variable((n_points, n_points), symmetric=False)\n",
    "            for i in range(n_points):\n",
    "                lambda_smooth[i,j,p] = cp.Variable((n_points, n_points), symmetric=False)\n",
    "\n",
    "    lambda_L = cp.Variable((n_points, n_points))\n",
    "\n",
    "    lambda_d0 = cp.Variable((1,1), symmetric=False)\n",
    "\n",
    "\n",
    "\n",
    "\n",
    "    d_k_x = XX_A[0,2,:] \n",
    "    d_k_y = XX_A[1,2,:] \n",
    "#     C = np.outer(d_k_y,d_k_y)\n",
    "    C = np.outer(d_k_x,d_k_x) + np.outer(d_k_y,d_k_y)\n",
    "\n",
    "    cons_SDP = -C\n",
    "    cons = []\n",
    "    cons_L = 0\n",
    "    l_zeros = []\n",
    "#     l_zeros = [(0,0,0,0),(0,0,0,1),(0,0,1,0),(0,0,1,1),(0,0,1,2),(0,0,0,2),(0,0,2,1),(0,0,2,2)]\n",
    "#     l_zeros += [(0,1,0,0),(0,1,0,1),(0,1,0,2),(0,1,1,0),(0,1,1,1),(0,1,1,2),(0,1,2,0),(0,1,2,1),(0,1,2,2)]\n",
    "#     l_zeros += [(0,2,0,0),(0,2,0,2),(0,2,1,0),(0,2,1,1),(0,2,2,0),(0,2,2,1),(0,2,2,2)]\n",
    "#     l_zeros += [(1,0,0,0),(1,0,0,1),(1,0,0,2),(1,1,1,0),(1,0,1,1),(1,0,2,1),(1,0,2,2)]\n",
    "#     l_zeros += [(1,1,0,0),(1,1,0,1),(1,1,0,2),(1,1,1,0),(1,1,1,1),(1,1,1,2),(1,1,0,2),(1,1,2,1),(1,1,2,2)]\n",
    "#     l_zeros += [(1,2,0,0),(1,2,1,0),(1,2,1,1),(1,2,1,2),(1,2,2,0),(1,2,2,1),(1,2,2,2)]\n",
    "    # Lip + strong conv between (x_i,y_i) and (x_j,y_i)\n",
    "    for p in range(2):\n",
    "        for i_x in range(n_points):\n",
    "            for j_x in range(n_points): \n",
    "                for i_y in range(n_points):\n",
    "                    if i_x != j_x:\n",
    "                        xi = XX_A[p,i_x,:]\n",
    "                        xj = XX_A[p,j_x,:]\n",
    "                        gxj = GX_A[p,j_x, i_y, :]\n",
    "                        Li = LL_A[p,i_x,i_y,:]\n",
    "                        Lj = LL_A[p,j_x,i_y,:]\n",
    "                        A = np.outer(gxj,xi - xj) + mu/2 * np.outer(xi-xj,xi-xj) \n",
    "                        cons_SDP = cons_SDP + lambda_conv[p,i_y][i_x,j_x]*  A\n",
    "                        cons_L = cons_L + lambda_conv[p,i_y][i_x,j_x]*(Li - Lj)\n",
    "                    else:\n",
    "                        cons += [lambda_conv[p,i_y][i_x,j_x]==0]\n",
    "\n",
    "    for i_x in range(n_points):\n",
    "        for j_x in range(n_points): \n",
    "            for i_y in range(n_points):\n",
    "                for j_y in range(n_points):\n",
    "                        if (i_x,i_y) != (j_x,j_y):\n",
    "                            xi = XX_A[0,i_x,:]\n",
    "                            xj = XX_A[0,j_x,:]\n",
    "                            yi = XX_A[1,i_y,:]\n",
    "                            yj = XX_A[1,j_y,:]\n",
    "                            gxj = GX_A[0,j_x, j_y, :]\n",
    "                            gyj = -GX_A[1,j_y, j_x, :]\n",
    "                            Li = LL_A[0,i_x,i_y,:]\n",
    "                            Lj = LL_A[0,j_x,j_y,:]\n",
    "                            A = -np.outer(gxj,xi - xj) - np.outer(gyj,yi - yj) - L/2 * np.outer(xi-xj,xi-xj)\n",
    "                            A -= L/2 * np.outer(yi-yj,yi-yj) \n",
    "                            cons_SDP = cons_SDP + lambda_smooth[i_x,i_y,0][j_x,j_y]*  A\n",
    "                            cons_L = cons_L - lambda_smooth[i_x,i_y,0][j_x,j_y]*(Li - Lj)\n",
    "                            A = np.outer(gxj,xi - xj) + np.outer(gyj,yi - yj) - L/2 * np.outer(xi-xj,xi-xj)\n",
    "                            A -= L/2 * np.outer(yi-yj,yi-yj) \n",
    "                            cons_SDP = cons_SDP + lambda_smooth[i_x,i_y,1][j_x,j_y]*  A\n",
    "                            cons_L = cons_L + lambda_smooth[i_x,i_y,1][j_x,j_y]*(Li - Lj)\n",
    "                        else:\n",
    "                            cons += [lambda_smooth[i_x,i_y,0][j_x,j_y]==0]\n",
    "                            cons += [lambda_smooth[i_x,i_y,1][j_x,j_y]==0]\n",
    "\n",
    "                    \n",
    "\n",
    "                \n",
    "    # Constraint for x_0 \n",
    "    d_0_x = XX_A[0,1,:] \n",
    "    d_0_y = XX_A[1,1,:] \n",
    "    A = np.outer(d_0_x,d_0_x) + np.outer(d_0_y,d_0_y)\n",
    "    cons_SDP += lambda_d0[0,0] * A \n",
    "    \n",
    "    #add constraints\n",
    "    for p in range(2):\n",
    "        for j in range(n_points):\n",
    "            cons += [lambda_conv[p,j] >= 0]\n",
    "    for i in range(n_points):\n",
    "        for j in range(n_points):\n",
    "            for p in range(2):\n",
    "                cons += [lambda_smooth[i,j,p] >= 0]\n",
    "    cons += [lambda_d0[0,0] >= 0] \n",
    "\n",
    "    cons += [cons_SDP  >> 0]\n",
    "    for i in range(nbPtsA-1):\n",
    "            cons += [cons_L[i] == 0]\n",
    "\n",
    "    obj = lambda_d0[0,0] \n",
    "    \n",
    "    prob = cp.Problem(cp.Minimize(obj),cons)\n",
    "\n",
    "    prob.solve(solver='MOSEK', verbose=verbose)\n",
    "#     for lam in lambda_smooth_y.values():\n",
    "#         print(lam.value)\n",
    "    \n",
    "    return prob.value, (lambda_conv, lambda_smooth)\n"
   ]
  },
  {
   "cell_type": "code",
   "execution_count": null,
   "id": "97a46bec",
   "metadata": {},
   "outputs": [],
   "source": [
    "# Parameters (analysis):\n",
    "L_x = L_y = L_xy = L_yx = L = 8.0 # Lipschitz \n",
    "mu = 1 # strong monotonicity\n",
    "n_points = 10\n",
    "alt_values = []\n",
    "sim_values = []\n",
    "eta_values = np.linspace(0,mu/L**2,n_points)\n",
    "\n",
    "for eta in eta_values:\n",
    "    solver_value = GDA(mu,L,eta,verbose = 0, alt = True)[0]\n",
    "    alt_values.append(solver_value)\n",
    "    print(eta)\n",
    "    print(solver_value)\n",
    "    solver_value = GDA(mu,L,eta,verbose = 0, alt = False)[0]\n",
    "    sim_values.append(solver_value)\n",
    "    print(solver_value)\n",
    "\n",
    "    \n"
   ]
  },
  {
   "cell_type": "code",
   "execution_count": null,
   "id": "bee8a2f1",
   "metadata": {},
   "outputs": [],
   "source": [
    "import matplotlib.pyplot as plt\n",
    "plt.plot(eta_values, np.array(alt_values), label=\"alt_GDA\")\n",
    "plt.plot(eta_values, np.array(sim_values), label=\"sim_GDA\")\n",
    "plt.plot(eta_values, [1-mu/(2*L)]*n_points, label =\"log(mu/(2*L))\")\n",
    "plt.plot(eta_values, [1-mu**2/L**2]*n_points, label =\"log((mu/L)**2)\")\n",
    "plt.xlabel('Eta values')\n",
    "plt.ylabel('Solver values')\n",
    "# Set the y-axis limits to be between 0 and 1\n",
    "# plt.ylim(1e-2, 1)\n",
    "# plt.xlim(0,1/L)\n",
    "# 1-kappa = \\|x_{t+1} -x^*\\|^2/\\|x_{t} -x^*\\|^2\n",
    "plt.legend()\n",
    "plt.show()"
   ]
  },
  {
   "cell_type": "code",
   "execution_count": null,
   "id": "3648847c",
   "metadata": {},
   "outputs": [],
   "source": [
    "mu = 1\n",
    "L = 4\n",
    "solver_value,(lambda_conv, lambda_smooth) = GDA(mu,L,1/(4*L),verbose = 0, alt = True)\n",
    "print(solver_value)"
   ]
  },
  {
   "cell_type": "code",
   "execution_count": null,
   "id": "4633ceb8",
   "metadata": {},
   "outputs": [],
   "source": [
    "for p in range(2):\n",
    "    for i in range(3):\n",
    "        print(f\"p: {p}, i: {i}, conv: \\n{np.round(lambda_conv[p,i].value,4)}\")\n",
    "        \n",
    "\n",
    "for p in range(2):\n",
    "    for i in range(3):\n",
    "        for j in range(3):\n",
    "            print(f\"p: {p}, i: {i}, j: {j} smooth: \\n{np.round(lambda_smooth[i,j,p].value,4)}\")\n",
    "        \n",
    "print(lambda_conv[0,0][2,0].value)\n",
    "print(mu/L**2/5)"
   ]
  },
  {
   "cell_type": "code",
   "execution_count": null,
   "id": "0c551d28",
   "metadata": {},
   "outputs": [],
   "source": [
    "l_zeros = [(0,0,0,0),(0,0,0,1),(0,0,1,0),(0,0,1,1),(0,0,1,2),(0,0,0,2),(0,0,2,1),(0,0,2,2)]\n",
    "l_zeros += [(0,1,0,0),(0,1,0,1),(0,1,0,2),(0,1,1,0),(0,1,1,1),(0,1,1,2),(0,1,2,0),(0,1,2,1),(0,1,2,2)]\n",
    "l_zeros += [(0,2,0,0),(0,2,0,2),(0,2,1,0),(0,2,1,1),(0,2,2,0),(0,2,2,1),(0,2,2,2)]\n",
    "l_zeros += [(1,0,0,0),(1,0,0,1),(1,0,0,2),(1,1,1,0),(1,0,1,1),(1,0,2,1),(1,0,2,2)]\n",
    "l_zeros += [(1,1,0,0),(1,1,0,1),(1,1,0,2),(1,1,1,0),(1,1,1,1),(1,1,1,2),(1,1,0,2),(1,1,2,1),(1,1,2,2)]\n",
    "l_zeros += [(1,2,0,0),(1,2,1,0),(1,2,1,1),(1,2,1,2),(1,2,2,0),(1,2,2,1),(1,2,2,2)]\n",
    "\n"
   ]
  },
  {
   "cell_type": "code",
   "execution_count": null,
   "id": "2d69f39a",
   "metadata": {},
   "outputs": [],
   "source": [
    "\n",
    "\n",
    "\n"
   ]
  },
  {
   "cell_type": "code",
   "execution_count": 7,
   "id": "ce7c16a1",
   "metadata": {},
   "outputs": [],
   "source": [
    "def GD(mu,L,eta,verbose = 1, alt = True, anchored = False):\n",
    "    # notations\n",
    "    n_iter = 2\n",
    "    n_points = n_iter + 1 ## Correspond to 1 iteration with two iterates\n",
    "\n",
    "    dimG = n_points \n",
    "    # nbPtsA = 2*n_iter + 1 # \n",
    "\n",
    "\n",
    "    xs  = np.zeros((1, dimG)) # this is x_*\n",
    "    Lxs = np.zeros((1, dimG))\n",
    "    xk  = np.zeros((n_iter, dimG))\n",
    "    xk[0,0] = 1\n",
    "    gxk = np.zeros((n_points, dimG))\n",
    "    Lk = np.zeros((n_points, dimG-1))\n",
    "\n",
    "    x_anchored = xk[0,:]\n",
    "    k=0\n",
    "    for i in range(n_points):\n",
    "            if i == 0:\n",
    "                k+=1\n",
    "            else: \n",
    "                gxk[i,k] = 1\n",
    "                Lk[i,k-1] =1\n",
    "                k += 1\n",
    "    assert(k==n_points)           \n",
    "\n",
    "\n",
    "\n",
    "    d_0 = 1 \n",
    "    for i in range(n_iter-1):\n",
    "        if alt:\n",
    "            if anchored :\n",
    "                xk[i+1,:] = xk[i,:] - eta * gxk[i+2,:]\n",
    "\n",
    "            else : \n",
    "                gamma = 1/(i+1)\n",
    "                xk[i+1,:] = xk[i,:] - eta * gxk[i+2,:] - gamma*(xk[i,:] - x_anchored)\n",
    "\n",
    "        else:\n",
    "            xk[i+1,:] = xk[i,:] - eta * gxk[i+1,:]\n",
    "\n",
    "\n",
    "\n",
    "\n",
    "    # regroup all points to be interpolated in larger matrices\n",
    "    XX_A = np.concatenate((xs,xk), axis=0)\n",
    "    GX_A = gxk\n",
    "    LL_A = Lk\n",
    "    \n",
    "    ## SDP part\n",
    "    nbPtsA = n_points**2\n",
    "\n",
    "    lambda_smooth_x = cp.Variable((n_points, n_points))\n",
    "    lambda_d0 = cp.Variable((1,1), symmetric=False)\n",
    "\n",
    "\n",
    "\n",
    "\n",
    "    d_k_x = XX_A[2,:] \n",
    "#     C = np.outer(d_k_y,d_k_y)\n",
    "    C = np.outer(d_k_x,d_k_x) \n",
    "#     + np.outer(d_k_y,d_k_y)\n",
    "\n",
    "    cons_SDP = -C\n",
    "    cons = []\n",
    "    cons_L = 0\n",
    "\n",
    "    # Lip + strong conv between (x_i,y_i) and (x_j,y_i)\n",
    "    for i in range(n_points):\n",
    "        for j in range(n_points):\n",
    "            if i != j:\n",
    "                xi = XX_A[i,:]\n",
    "                xj = XX_A[j,:]\n",
    "                gxi = GX_A[i,:]\n",
    "                gxj = GX_A[j,:]\n",
    "                Li = LL_A[i,:]\n",
    "                Lj = LL_A[j,:]\n",
    "                # strong convexity between (x_i,y_i), and (x_j,y_i)\n",
    "                # L(x_i,y_i) \\geq L(x_j,y_i) + <nabla_x L(x_j,y_i),x_i-x_j> + \\mu/2 \\|x_i-x_j\\|**2\n",
    "                A = mu/(2*(1-mu/L_x)) * np.outer(xi-xj-(gxi-gxj)/L_x,xi-xj-(gxi-gxj)/L_x) \n",
    "                A += np.outer(gxi-gxj,gxi-gxj)/(2*L_x) + np.outer(gxj,xi - xj)\n",
    "                cons_SDP = cons_SDP + lambda_smooth_x[i,j]*A\n",
    "                cons_L = cons_L + lambda_smooth_x[i,j]*(Li - Lj)\n",
    "            else:\n",
    "                cons += [lambda_smooth_x[i,j]==0]\n",
    "                \n",
    "    # Constraint for x_0 \n",
    "    d_0_x = XX_A[1,:] \n",
    "    A = np.outer(d_0_x,d_0_x)\n",
    "    cons_SDP += lambda_d0[0,0] * A \n",
    "    \n",
    "    #add constraints\n",
    "    cons += [lambda_smooth_x >= 0]\n",
    "    cons += [lambda_d0[0,0] >= 0] \n",
    "\n",
    "    cons += [cons_SDP  >> 0]\n",
    "    for i in range(n_points-1):\n",
    "            cons += [cons_L[i] == 0]\n",
    "\n",
    "    obj = lambda_d0[0,0] \n",
    "    \n",
    "    prob = cp.Problem(cp.Minimize(obj),cons)\n",
    "\n",
    "    prob.solve(solver='MOSEK', verbose=verbose)\n",
    "    \n",
    "    return prob.value\n",
    "\n"
   ]
  },
  {
   "cell_type": "code",
   "execution_count": 11,
   "id": "1f09b7ef",
   "metadata": {
    "scrolled": false
   },
   "outputs": [
    {
     "name": "stdout",
     "output_type": "stream",
     "text": [
      "eta 0.0, true 1.0000000000002423, false 1.0000000000002423, anc1.0000000000002423\n",
      "eta 0.02631578947368421, true 0.9947575451300842, false 0.9947437625404593, anc0.9947437625404593\n",
      "eta 0.05263157894736842, true 0.9895562073418244, false 0.9895013573410507, anc0.9895013573410507\n",
      "eta 0.07894736842105263, true 0.9843955554005653, false 0.9842728337604151, anc0.9842728337604151\n",
      "eta 0.10526315789473684, true 0.9792751721851034, false 0.9790581664679557, anc0.9790581664679557\n",
      "eta 0.13157894736842105, true 0.9741946360167169, false 0.9738573288403459, anc0.9738573288403459\n",
      "eta 0.15789473684210525, true 0.9691535355228116, false 0.9686703577191466, anc0.9686703577191466\n",
      "eta 0.18421052631578946, true 0.9641514667181642, false 0.9634972288832181, anc0.9634972288832181\n",
      "eta 0.21052631578947367, true 0.9591880131795076, false 0.9583379490842782, anc0.9583379490842782\n",
      "eta 0.23684210526315788, true 0.9542627925544221, false 0.9531925198601772, anc0.9531925198601772\n",
      "eta 0.2631578947368421, true 0.9493754114080608, false 0.9480609411557839, anc0.9480609411557839\n",
      "eta 0.2894736842105263, true 0.9445254811642487, false 0.9429431848158237, anc0.9429431848158237\n",
      "eta 0.3157894736842105, true 0.9397126202653181, false 0.9378393163015895, anc0.9378393163015895\n",
      "eta 0.3421052631578947, true 0.9349364520315757, false 0.9327492944146658, anc0.9327492944146658\n",
      "eta 0.3684210526315789, true 0.9301966043206842, false 0.9276731195321498, anc0.9276731195321498\n",
      "eta 0.39473684210526316, true 0.925492709860138, false 0.9226107913852051, anc0.9226107913852051\n",
      "eta 0.42105263157894735, true 0.9208244059926236, false 0.9175623220659984, anc0.9175623220659984\n",
      "eta 0.4473684210526315, true 0.9161913351038338, false 0.9125276964637413, anc0.9125276964637413\n",
      "eta 0.47368421052631576, true 0.9115931441223566, false 0.9075068986729861, anc0.9075068986729861\n",
      "eta 0.5, true 0.9070294829824088, false 0.9999999940807359, anc0.9999999940807359\n"
     ]
    }
   ],
   "source": [
    "# Parameters (analysis):\n",
    "L_x = L_y = L_xy = L_yx = L = 4.0 # Lipschitz \n",
    "mu = .1 # strong monotonicity\n",
    "n_points = 20\n",
    "alt_values = []\n",
    "sim_values = []\n",
    "anc_values = []\n",
    "eta_values = np.linspace(0,2/L,n_points)\n",
    "\n",
    "for eta in eta_values:\n",
    "    solver_value_1 = GD(mu,L,eta,verbose = 0, alt = True)\n",
    "    alt_values.append(solver_value_1)\n",
    "    solver_value_2 = GD(mu,L,eta,verbose = 0, alt = False)\n",
    "    sim_values.append(solver_value_2)\n",
    "    solver_value_3 = GD(mu,L,eta,verbose = 0, alt = False, anchored=True)\n",
    "    anc_values.append(solver_value_3)\n",
    "    print(f\"eta {eta}, true {solver_value_1}, false {solver_value_2}, anc{solver_value_3}\",)"
   ]
  },
  {
   "cell_type": "code",
   "execution_count": 9,
   "id": "8287e753",
   "metadata": {},
   "outputs": [
    {
     "data": {
      "image/png": "[encoded data removed]",
      "text/plain": [
       "<Figure size 640x480 with 1 Axes>"
      ]
     },
     "metadata": {},
     "output_type": "display_data"
    }
   ],
   "source": [
    "import matplotlib.pyplot as plt\n",
    "plt.plot(eta_values, alt_values, label=\"alt_GD\")\n",
    "plt.plot(eta_values, sim_values, label=\"sim_GD\")\n",
    "plt.plot(eta_values, anc_values, label=\"anc_GD\")\n",
    "\n",
    "plt.plot(eta_values, [1-mu/L]*n_points, label =\"1-mu/L\")\n",
    "plt.plot(eta_values, [L/(L+mu)]*n_points, label =\"1-(mu/L)**2\")\n",
    "plt.xlabel('Eta values')\n",
    "plt.ylabel('Solver values')\n",
    "# Set the y-axis limits to be between 0 and 1\n",
    "plt.ylim(.9, 1)\n",
    "plt.xlim(0,2/L)\n",
    "plt.legend()\n",
    "plt.show()"
   ]
  },
  {
   "cell_type": "code",
   "execution_count": null,
   "id": "29728cc1",
   "metadata": {},
   "outputs": [
    {
     "name": "stdout",
     "output_type": "stream",
     "text": [
      "[[0. 0. 0.]\n",
      " [0. 0. 1.]\n",
      " [0. 1. 0.]]\n"
     ]
    }
   ],
   "source": [
    "print(np.round(lambda_lip.value,5)*2*L**2)"
   ]
  },
  {
   "cell_type": "code",
   "execution_count": null,
   "id": "b1a52cbf",
   "metadata": {},
   "outputs": [
    {
     "name": "stdout",
     "output_type": "stream",
     "text": [
      "[[0. 0. 1.]\n",
      " [0. 0. 1.]\n",
      " [1. 1. 0.]]\n"
     ]
    }
   ],
   "source": [
    "print(np.round(lambda_str.value,3)*L**2/mu)"
   ]
  },
  {
   "cell_type": "code",
   "execution_count": null,
   "id": "1244febf",
   "metadata": {},
   "outputs": [
    {
     "data": {
      "text/plain": [
       "Problem(Minimize(Expression(AFFINE, UNKNOWN, ())), [Equality(Expression(AFFINE, UNKNOWN, ()), Constant(CONSTANT, ZERO, ())), Equality(Expression(AFFINE, UNKNOWN, ()), Constant(CONSTANT, ZERO, ())), Equality(Expression(AFFINE, UNKNOWN, ()), Constant(CONSTANT, ZERO, ())), Equality(Expression(AFFINE, UNKNOWN, ()), Constant(CONSTANT, ZERO, ())), Equality(Expression(AFFINE, UNKNOWN, ()), Constant(CONSTANT, ZERO, ())), Equality(Expression(AFFINE, UNKNOWN, ()), Constant(CONSTANT, ZERO, ())), Equality(Expression(AFFINE, UNKNOWN, ()), Expression(AFFINE, UNKNOWN, ())), Equality(Expression(AFFINE, UNKNOWN, ()), Expression(AFFINE, UNKNOWN, ())), Equality(Expression(AFFINE, UNKNOWN, ()), Expression(AFFINE, UNKNOWN, ())), Equality(Expression(AFFINE, UNKNOWN, ()), Expression(AFFINE, UNKNOWN, ())), Equality(Expression(AFFINE, UNKNOWN, ()), Expression(AFFINE, UNKNOWN, ())), Equality(Expression(AFFINE, UNKNOWN, ()), Expression(AFFINE, UNKNOWN, ())), Equality(Expression(AFFINE, UNKNOWN, ()), Expression(AFFINE, UNKNOWN, ())), Equality(Expression(AFFINE, UNKNOWN, ()), Expression(AFFINE, UNKNOWN, ())), Equality(Expression(AFFINE, UNKNOWN, ()), Expression(AFFINE, UNKNOWN, ())), Equality(Expression(AFFINE, UNKNOWN, ()), Constant(CONSTANT, ZERO, ())), Equality(Expression(AFFINE, UNKNOWN, ()), Constant(CONSTANT, ZERO, ())), Equality(Expression(AFFINE, UNKNOWN, ()), Constant(CONSTANT, ZERO, ())), Equality(Expression(AFFINE, UNKNOWN, ()), Constant(CONSTANT, ZERO, ())), Equality(Expression(AFFINE, UNKNOWN, ()), Constant(CONSTANT, ZERO, ())), Equality(Expression(AFFINE, UNKNOWN, ()), Constant(CONSTANT, ZERO, ())), Equality(Expression(AFFINE, UNKNOWN, ()), Expression(AFFINE, UNKNOWN, ())), Equality(Expression(AFFINE, UNKNOWN, ()), Expression(AFFINE, UNKNOWN, ())), Equality(Expression(AFFINE, UNKNOWN, ()), Expression(AFFINE, UNKNOWN, ())), Equality(Expression(AFFINE, UNKNOWN, ()), Expression(AFFINE, UNKNOWN, ())), Equality(Expression(AFFINE, UNKNOWN, ()), Expression(AFFINE, UNKNOWN, ())), Equality(Expression(AFFINE, UNKNOWN, ()), Expression(AFFINE, UNKNOWN, ())), Equality(Expression(AFFINE, UNKNOWN, ()), Expression(AFFINE, UNKNOWN, ())), Equality(Expression(AFFINE, UNKNOWN, ()), Expression(AFFINE, UNKNOWN, ())), Equality(Expression(AFFINE, UNKNOWN, ()), Expression(AFFINE, UNKNOWN, ())), Equality(Expression(AFFINE, UNKNOWN, ()), Constant(CONSTANT, ZERO, ())), Equality(Expression(AFFINE, UNKNOWN, ()), Constant(CONSTANT, ZERO, ())), Equality(Expression(AFFINE, UNKNOWN, ()), Constant(CONSTANT, ZERO, ())), Equality(Expression(AFFINE, UNKNOWN, ()), Constant(CONSTANT, ZERO, ())), Equality(Expression(AFFINE, UNKNOWN, ()), Constant(CONSTANT, ZERO, ())), Equality(Expression(AFFINE, UNKNOWN, ()), Constant(CONSTANT, ZERO, ())), Equality(Expression(AFFINE, UNKNOWN, ()), Constant(CONSTANT, ZERO, ())), Equality(Expression(AFFINE, UNKNOWN, ()), Constant(CONSTANT, ZERO, ())), Equality(Expression(AFFINE, UNKNOWN, ()), Expression(AFFINE, UNKNOWN, ())), Equality(Expression(AFFINE, UNKNOWN, ()), Expression(AFFINE, UNKNOWN, ())), Equality(Expression(AFFINE, UNKNOWN, ()), Expression(AFFINE, UNKNOWN, ())), Equality(Expression(AFFINE, UNKNOWN, ()), Constant(CONSTANT, ZERO, ())), Equality(Expression(AFFINE, UNKNOWN, ()), Constant(CONSTANT, ZERO, ())), Equality(Expression(AFFINE, UNKNOWN, ()), Expression(AFFINE, UNKNOWN, ())), Equality(Expression(AFFINE, UNKNOWN, ()), Expression(AFFINE, UNKNOWN, ())), Equality(Expression(AFFINE, UNKNOWN, ()), Expression(AFFINE, UNKNOWN, ())), Equality(Expression(AFFINE, UNKNOWN, ()), Constant(CONSTANT, ZERO, ())), Equality(Expression(AFFINE, UNKNOWN, ()), Constant(CONSTANT, ZERO, ())), Equality(Expression(AFFINE, UNKNOWN, ()), Constant(CONSTANT, ZERO, ())), Equality(Expression(AFFINE, UNKNOWN, ()), Constant(CONSTANT, ZERO, ())), Equality(Expression(AFFINE, UNKNOWN, ()), Expression(AFFINE, UNKNOWN, ())), Equality(Expression(AFFINE, UNKNOWN, ()), Expression(AFFINE, UNKNOWN, ())), Equality(Expression(AFFINE, UNKNOWN, ()), Expression(AFFINE, UNKNOWN, ())), Equality(Expression(AFFINE, UNKNOWN, ()), Constant(CONSTANT, ZERO, ())), Equality(Expression(AFFINE, UNKNOWN, ()), Constant(CONSTANT, ZERO, ())), Equality(Expression(AFFINE, UNKNOWN, ()), Expression(AFFINE, UNKNOWN, ())), Equality(Expression(AFFINE, UNKNOWN, ()), Expression(AFFINE, UNKNOWN, ())), Equality(Expression(AFFINE, UNKNOWN, ()), Expression(AFFINE, UNKNOWN, ())), Equality(Expression(AFFINE, UNKNOWN, ()), Constant(CONSTANT, ZERO, ())), Equality(Expression(AFFINE, UNKNOWN, ()), Constant(CONSTANT, ZERO, ())), Equality(Expression(AFFINE, UNKNOWN, ()), Constant(CONSTANT, ZERO, ())), Equality(Expression(AFFINE, UNKNOWN, ()), Constant(CONSTANT, ZERO, ())), Equality(Expression(AFFINE, UNKNOWN, ()), Expression(AFFINE, UNKNOWN, ())), Equality(Expression(AFFINE, UNKNOWN, ()), Expression(AFFINE, UNKNOWN, ())), Equality(Expression(AFFINE, UNKNOWN, ()), Expression(AFFINE, UNKNOWN, ())), Equality(Expression(AFFINE, UNKNOWN, ()), Constant(CONSTANT, ZERO, ())), Equality(Expression(AFFINE, UNKNOWN, ()), Constant(CONSTANT, ZERO, ())), Equality(Expression(AFFINE, UNKNOWN, ()), Expression(AFFINE, UNKNOWN, ())), Equality(Expression(AFFINE, UNKNOWN, ()), Expression(AFFINE, UNKNOWN, ())), Equality(Expression(AFFINE, UNKNOWN, ()), Expression(AFFINE, UNKNOWN, ())), Equality(Expression(AFFINE, UNKNOWN, ()), Constant(CONSTANT, ZERO, ())), Equality(Expression(AFFINE, UNKNOWN, ()), Constant(CONSTANT, ZERO, ())), Inequality(Constant(CONSTANT, ZERO, ())), Inequality(Constant(CONSTANT, ZERO, ())), Inequality(Constant(CONSTANT, ZERO, ())), Inequality(Constant(CONSTANT, ZERO, ())), Inequality(Constant(CONSTANT, ZERO, ())), PSD(Expression(AFFINE, UNKNOWN, (17, 17))), Equality(Expression(AFFINE, UNKNOWN, ()), Constant(CONSTANT, ZERO, ())), Equality(Expression(AFFINE, UNKNOWN, ()), Constant(CONSTANT, ZERO, ())), Equality(Expression(AFFINE, UNKNOWN, ()), Constant(CONSTANT, ZERO, ())), Equality(Expression(AFFINE, UNKNOWN, ()), Constant(CONSTANT, ZERO, ())), Equality(Expression(AFFINE, UNKNOWN, ()), Constant(CONSTANT, ZERO, ())), Equality(Expression(AFFINE, UNKNOWN, ()), Constant(CONSTANT, ZERO, ())), Equality(Expression(AFFINE, UNKNOWN, ()), Constant(CONSTANT, ZERO, ())), Equality(Expression(AFFINE, UNKNOWN, ()), Constant(CONSTANT, ZERO, ()))])"
      ]
     },
     "execution_count": 35,
     "metadata": {},
     "output_type": "execute_result"
    }
   ],
   "source": [
    "keyprob"
   ]
  },
  {
   "cell_type": "code",
   "execution_count": null,
   "id": "df82582a",
   "metadata": {},
   "outputs": [
    {
     "data": {
      "text/plain": [
       "[(0, 0), (0, 1), (0, 2), (1, 0), (1, 1), (1, 2), (2, 0), (2, 1), (2, 2)]"
      ]
     },
     "execution_count": 119,
     "metadata": {},
     "output_type": "execute_result"
    }
   ],
   "source": [
    "[(i,j) for i in range(3) for j in range(3) ] "
   ]
  },
  {
   "cell_type": "code",
   "execution_count": null,
   "id": "90e218d2",
   "metadata": {},
   "outputs": [
    {
     "name": "stdout",
     "output_type": "stream",
     "text": [
      "[[0.998125]]\n"
     ]
    }
   ],
   "source": [
    "print(lambda_d0.value)"
   ]
  },
  {
   "cell_type": "code",
   "execution_count": null,
   "id": "d27d915a",
   "metadata": {},
   "outputs": [],
   "source": []
  },
  {
   "cell_type": "code",
   "execution_count": null,
   "id": "b36f6468",
   "metadata": {},
   "outputs": [],
   "source": []
  }
 ],
 "metadata": {
  "kernelspec": {
   "display_name": "Python 3",
   "language": "python",
   "name": "python3"
  },
  "language_info": {
   "codemirror_mode": {
    "name": "ipython",
    "version": 3
   },
   "file_extension": ".py",
   "mimetype": "text/x-python",
   "name": "python",
   "nbconvert_exporter": "python",
   "pygments_lexer": "ipython3",
   "version": "3.9.6"
  }
 },
 "nbformat": 4,
 "nbformat_minor": 5
}
